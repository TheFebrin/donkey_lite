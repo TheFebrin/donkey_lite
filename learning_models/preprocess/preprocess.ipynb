{
 "cells": [
  {
   "cell_type": "code",
   "execution_count": 1,
   "metadata": {},
   "outputs": [],
   "source": [
    "import os\n",
    "import json\n",
    "from tqdm import tqdm\n",
    "from PIL import Image\n",
    "import numpy as np\n",
    "import matplotlib.pyplot as plt\n",
    "import pandas as pd\n",
    "import cv2"
   ]
  },
  {
   "cell_type": "code",
   "execution_count": 2,
   "metadata": {},
   "outputs": [],
   "source": [
    "CROP_SIZE = 50\n"
   ]
  },
  {
   "cell_type": "code",
   "execution_count": 3,
   "metadata": {},
   "outputs": [
    {
     "name": "stderr",
     "output_type": "stream",
     "text": [
      "Loading json data...: 100%|█████████████████████████████████████████████████| 115971/115971 [00:06<00:00, 16654.01it/s]\n"
     ]
    }
   ],
   "source": [
    "path = 'C:/Users/Febrin/Desktop/recording_car_tub'\n",
    "IMAGES_PATHS = os.listdir(path)\n",
    "JSONS = []\n",
    "\n",
    "for p in tqdm(IMAGES_PATHS, desc='Loading json data...'):\n",
    "    if p.find('.json') != -1 and p.find('meta') == -1:\n",
    "        with open(path + '/' + p) as f:\n",
    "            JSONS.append(json.load(f))"
   ]
  },
  {
   "cell_type": "code",
   "execution_count": 6,
   "metadata": {},
   "outputs": [
    {
     "name": "stderr",
     "output_type": "stream",
     "text": [
      "Creating training data...:  49%|██████████████████████▉                        | 28349/57985 [00:11<00:11, 2508.73it/s]\n",
      "Creating training data...: 100%|███████████████████████████████████████████████▉| 57973/57985 [01:55<00:00, 283.11it/s]\n",
      "Creating training data...: 100%|████████████████████████████████████████████████| 57985/57985 [01:55<00:00, 503.68it/s]\n"
     ]
    }
   ],
   "source": [
    "DATA = []\n",
    "\n",
    "for json in tqdm(JSONS, desc='Creating training data...', position=0, leave=True):\n",
    "    img =  Image.open(path + '/'+ json['image_array']).convert('L')\n",
    "    img = np.array(img)\n",
    "    img = img[-CROP_SIZE:, :]\n",
    "    img = cv2.Canny(img, 300, 400)\n",
    "    \n",
    "    features = (json['user_angle'], json['user_throttle'], json['distance'], json['timestamp'])\n",
    "    DATA.append((img, features))"
   ]
  },
  {
   "cell_type": "code",
   "execution_count": 7,
   "metadata": {},
   "outputs": [
    {
     "data": {
      "text/plain": [
       "(array([[0, 0, 0, ..., 0, 0, 0],\n",
       "        [0, 0, 0, ..., 0, 0, 0],\n",
       "        [0, 0, 0, ..., 0, 0, 0],\n",
       "        ...,\n",
       "        [0, 0, 0, ..., 0, 0, 0],\n",
       "        [0, 0, 0, ..., 0, 0, 0],\n",
       "        [0, 0, 0, ..., 0, 0, 0]], dtype=uint8),\n",
       " (0.338, 0.12421052631578948, 10348, '2020-05-30 14:42:55.994782'))"
      ]
     },
     "execution_count": 7,
     "metadata": {},
     "output_type": "execute_result"
    }
   ],
   "source": [
    "DATA[0]"
   ]
  },
  {
   "cell_type": "code",
   "execution_count": 8,
   "metadata": {},
   "outputs": [
    {
     "data": {
      "text/plain": [
       "<matplotlib.image.AxesImage at 0x244f065cc50>"
      ]
     },
     "execution_count": 8,
     "metadata": {},
     "output_type": "execute_result"
    },
    {
     "data": {
      "image/png": "[encoded data removed]",
      "text/plain": [
       "<Figure size 432x288 with 1 Axes>"
      ]
     },
     "metadata": {
      "needs_background": "light"
     },
     "output_type": "display_data"
    }
   ],
   "source": [
    "plt.imshow(DATA[0][0], cmap='gray')"
   ]
  },
  {
   "cell_type": "code",
   "execution_count": 9,
   "metadata": {},
   "outputs": [],
   "source": [
    "np.save('training_data.npy', DATA)"
   ]
  },
  {
   "cell_type": "code",
   "execution_count": null,
   "metadata": {},
   "outputs": [],
   "source": []
  },
  {
   "cell_type": "code",
   "execution_count": 13,
   "metadata": {},
   "outputs": [
    {
     "data": {
      "image/png": "[encoded data removed]",
      "text/plain": [
       "<Figure size 432x288 with 1 Axes>"
      ]
     },
     "metadata": {
      "needs_background": "light"
     },
     "output_type": "display_data"
    }
   ],
   "source": [
    "from IPython.display import clear_output\n",
    "\n",
    "for x, y in DATA:\n",
    "    clear_output(True)\n",
    "    plt.imshow(x, cmap='gray')\n",
    "    plt.show()\n",
    "#     break\n",
    "    "
   ]
  },
  {
   "cell_type": "code",
   "execution_count": null,
   "metadata": {},
   "outputs": [],
   "source": []
  }
 ],
 "metadata": {
  "kernelspec": {
   "display_name": "Python 3",
   "language": "python",
   "name": "python3"
  },
  "language_info": {
   "codemirror_mode": {
    "name": "ipython",
    "version": 3
   },
   "file_extension": ".py",
   "mimetype": "text/x-python",
   "name": "python",
   "nbconvert_exporter": "python",
   "pygments_lexer": "ipython3",
   "version": "3.7.3"
  }
 },
 "nbformat": 4,
 "nbformat_minor": 4
}
