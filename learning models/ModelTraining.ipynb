{
  "nbformat": 4,
  "nbformat_minor": 0,
  "metadata": {
    "kernelspec": {
      "display_name": "Python 3",
      "language": "python",
      "name": "python3"
    },
    "language_info": {
      "codemirror_mode": {
        "name": "ipython",
        "version": 3
      },
      "file_extension": ".py",
      "mimetype": "text/x-python",
      "name": "python",
      "nbconvert_exporter": "python",
      "pygments_lexer": "ipython3",
      "version": "3.7.3"
    },
    "colab": {
      "name": "ModelTraining.ipynb",
      "provenance": [],
      "collapsed_sections": []
    },
    "accelerator": "GPU"
  },
  "cells": [
    {
      "cell_type": "code",
      "metadata": {
        "id": "2E2nJwrHKjlr",
        "colab_type": "code",
        "colab": {}
      },
      "source": [
        "import os\n",
        "import time\n",
        "\n",
        "import numpy as np\n",
        "import matplotlib.pyplot as plt\n",
        "import pandas as pd\n",
        "\n",
        "from tqdm import tqdm\n",
        "\n",
        "import torch\n",
        "from torch import nn\n",
        "import torch.nn.functional as F\n",
        "from torchvision import datasets, models, transforms\n",
        "import torchvision\n",
        "from torch.utils.data import Dataset, DataLoader\n",
        "from sklearn.model_selection import train_test_split\n",
        "\n",
        "from IPython.display import clear_output"
      ],
      "execution_count": 0,
      "outputs": []
    },
    {
      "cell_type": "markdown",
      "metadata": {
        "id": "gLqA6yKdSQh9",
        "colab_type": "text"
      },
      "source": [
        "4/0wHUZ-XzVRMJlglaIqfC4RxgEfL7qhY9VU2OPUjQ6FEWvR9Bog21EHw"
      ]
    },
    {
      "cell_type": "code",
      "metadata": {
        "id": "s9zEy5btRGuk",
        "colab_type": "code",
        "outputId": "f5be27e4-f4b4-4d41-c11e-4137d25ee47c",
        "colab": {
          "base_uri": "https://localhost:8080/",
          "height": 35
        }
      },
      "source": [
        "from google.colab import drive\n",
        "drive.mount('/content/drive')"
      ],
      "execution_count": 26,
      "outputs": [
        {
          "output_type": "stream",
          "text": [
            "Drive already mounted at /content/drive; to attempt to forcibly remount, call drive.mount(\"/content/drive\", force_remount=True).\n"
          ],
          "name": "stdout"
        }
      ]
    },
    {
      "cell_type": "code",
      "metadata": {
        "id": "0R0i4w0dSjJY",
        "colab_type": "code",
        "colab": {
          "base_uri": "https://localhost:8080/",
          "height": 35
        },
        "outputId": "98dd2629-0f68-428f-b50a-940078074fa8"
      },
      "source": [
        "%ls content/drive/My\\ Drive"
      ],
      "execution_count": 27,
      "outputs": [
        {
          "output_type": "stream",
          "text": [
            "ls: cannot access 'content/drive/My Drive': No such file or directory\n"
          ],
          "name": "stdout"
        }
      ]
    },
    {
      "cell_type": "code",
      "metadata": {
        "id": "KuAq45iZKjlv",
        "colab_type": "code",
        "outputId": "d73e9e1c-3b55-4b3b-f11d-579b2e7fd202",
        "colab": {
          "base_uri": "https://localhost:8080/",
          "height": 35
        }
      },
      "source": [
        "device = \"cuda\" if torch.cuda.is_available() else \"cpu\"\n",
        "device"
      ],
      "execution_count": 28,
      "outputs": [
        {
          "output_type": "execute_result",
          "data": {
            "text/plain": [
              "'cuda'"
            ]
          },
          "metadata": {
            "tags": []
          },
          "execution_count": 28
        }
      ]
    },
    {
      "cell_type": "code",
      "metadata": {
        "id": "qtiXNlU_Kjlx",
        "colab_type": "code",
        "outputId": "7e516594-ed69-42e6-9bfd-cd2b440fae93",
        "colab": {
          "base_uri": "https://localhost:8080/",
          "height": 35
        }
      },
      "source": [
        "DATA = np.load('/content/drive/My Drive/preprocess/training_data.npy', allow_pickle=True)\n",
        "DATA.shape"
      ],
      "execution_count": 29,
      "outputs": [
        {
          "output_type": "execute_result",
          "data": {
            "text/plain": [
              "(57985, 2)"
            ]
          },
          "metadata": {
            "tags": []
          },
          "execution_count": 29
        }
      ]
    },
    {
      "cell_type": "code",
      "metadata": {
        "id": "0EbQfZwWKjl0",
        "colab_type": "code",
        "outputId": "e1e999ed-c233-4185-da70-1254f28c33d2",
        "colab": {
          "base_uri": "https://localhost:8080/",
          "height": 173
        }
      },
      "source": [
        "plt.imshow(DATA[0][0], cmap='gray')"
      ],
      "execution_count": 30,
      "outputs": [
        {
          "output_type": "execute_result",
          "data": {
            "text/plain": [
              "<matplotlib.image.AxesImage at 0x7f3e7427afd0>"
            ]
          },
          "metadata": {
            "tags": []
          },
          "execution_count": 30
        },
        {
          "output_type": "display_data",
          "data": {
            "image/png": "[encoded data removed]",
            "text/plain": [
              "<Figure size 432x288 with 1 Axes>"
            ]
          },
          "metadata": {
            "tags": [],
            "needs_background": "light"
          }
        }
      ]
    },
    {
      "cell_type": "code",
      "metadata": {
        "id": "vUFmIuRWKjl2",
        "colab_type": "code",
        "outputId": "1f46e665-116b-4749-cb9f-3760afdbd73a",
        "colab": {
          "base_uri": "https://localhost:8080/",
          "height": 35
        }
      },
      "source": [
        "X = np.array(DATA[:, 0])\n",
        "Y = np.array(DATA[:, 1])\n",
        "\n",
        "X.shape"
      ],
      "execution_count": 31,
      "outputs": [
        {
          "output_type": "execute_result",
          "data": {
            "text/plain": [
              "(57985,)"
            ]
          },
          "metadata": {
            "tags": []
          },
          "execution_count": 31
        }
      ]
    },
    {
      "cell_type": "code",
      "metadata": {
        "id": "fTXc34bkKjl5",
        "colab_type": "code",
        "colab": {}
      },
      "source": [
        "img_shape = X[0].shape"
      ],
      "execution_count": 0,
      "outputs": []
    },
    {
      "cell_type": "code",
      "metadata": {
        "id": "dEMUYTTwKjl7",
        "colab_type": "code",
        "colab": {}
      },
      "source": [
        "#  features = (json['user_angle'], json['user_throttle'], json['distance'], json['timestamp'])\n",
        "\n",
        "targets = [x[0] for x in Y] # only angle\n",
        "targets = np.array(targets)"
      ],
      "execution_count": 0,
      "outputs": []
    },
    {
      "cell_type": "code",
      "metadata": {
        "id": "9uPDvWEcKjl-",
        "colab_type": "code",
        "outputId": "f0405cf6-c20b-47ae-ec5b-4cd864f4506f",
        "colab": {
          "base_uri": "https://localhost:8080/",
          "height": 35
        }
      },
      "source": [
        "X = np.concatenate(X).reshape(-1, *img_shape)\n",
        "X.shape"
      ],
      "execution_count": 34,
      "outputs": [
        {
          "output_type": "execute_result",
          "data": {
            "text/plain": [
              "(57985, 50, 160)"
            ]
          },
          "metadata": {
            "tags": []
          },
          "execution_count": 34
        }
      ]
    },
    {
      "cell_type": "code",
      "metadata": {
        "id": "bU5RRQmaKjmA",
        "colab_type": "code",
        "colab": {}
      },
      "source": [
        "X_train, X_test, y_train, y_test = train_test_split(\n",
        "      X, targets, test_size=0.33, random_state=42)"
      ],
      "execution_count": 0,
      "outputs": []
    },
    {
      "cell_type": "code",
      "metadata": {
        "id": "azqRLhTSKjmC",
        "colab_type": "code",
        "colab": {}
      },
      "source": [
        "class InMemDataLoader(object):\n",
        "    \"\"\"\n",
        "    A data loader that keeps all data in CPU or GPU memory.\n",
        "    \"\"\"\n",
        "    __initialized = False\n",
        "    def __init__(self, dataset, batch_size=1, shuffle=False, sampler=None,\n",
        "                 batch_sampler=None, drop_last=False):\n",
        "        \"\"\"A torch dataloader that fetches data from memory.\"\"\"\n",
        "        batches = []\n",
        "        for i in tqdm(range(len(dataset)), leave=True, position=0):\n",
        "            batch = [torch.tensor(t) for t in dataset[i]]\n",
        "            batches.append(batch)\n",
        "        tensors = [\n",
        "            torch.stack(ts) for ts in zip(*batches)\n",
        "        ]\n",
        "        dataset = torch.utils.data.TensorDataset(*tensors)\n",
        "        self.dataset = dataset\n",
        "        self.batch_size = batch_size\n",
        "        self.drop_last = drop_last\n",
        "        \n",
        "        if batch_sampler is not None:\n",
        "            if batch_size > 1 or shuffle or sampler is not None or drop_last:\n",
        "                raise ValueError('batch_sampler option is mutually exclusive '\n",
        "                                 'with batch_size, shuffle, sampler, and '\n",
        "                                 'drop_last')\n",
        "            self.batch_size = None\n",
        "            self.drop_last = None\n",
        "\n",
        "        if sampler is not None and shuffle:\n",
        "            raise ValueError('sampler option is mutually exclusive with '\n",
        "                             'shuffle')\n",
        "            \n",
        "        if batch_sampler is None:\n",
        "            if sampler is None:\n",
        "                if shuffle:\n",
        "                    sampler = torch.utils.data.RandomSampler(dataset)\n",
        "                else:\n",
        "                    sampler = torch.utils.data.SequentialSampler(dataset)\n",
        "            batch_sampler = torch.utils.data.BatchSampler(sampler, batch_size, drop_last)\n",
        "\n",
        "        self.sampler = sampler\n",
        "        self.batch_sampler = batch_sampler\n",
        "        self.__initialized = True\n",
        "    \n",
        "    def __setattr__(self, attr, val):\n",
        "        if self.__initialized and attr in ('batch_size', 'sampler', 'drop_last'):\n",
        "            raise ValueError('{} attribute should not be set after {} is '\n",
        "                             'initialized'.format(attr, self.__class__.__name__))\n",
        "\n",
        "        super(InMemDataLoader, self).__setattr__(attr, val)\n",
        "\n",
        "    def __iter__(self):\n",
        "        for batch_indices in self.batch_sampler:\n",
        "            yield self.dataset[batch_indices]\n",
        "\n",
        "    def __len__(self):\n",
        "        return len(self.batch_sampler)\n",
        "    \n",
        "    def to(self, device):\n",
        "        self.dataset.tensors = tuple(t.to(device) for t in self.dataset.tensors)\n",
        "        return self"
      ],
      "execution_count": 0,
      "outputs": []
    },
    {
      "cell_type": "code",
      "metadata": {
        "id": "5PxmvXRXKjmH",
        "colab_type": "code",
        "outputId": "d1aee9cd-d006-4c75-d293-f777a6fd5c73",
        "colab": {
          "base_uri": "https://localhost:8080/",
          "height": 54
        }
      },
      "source": [
        "batch_size = 128\n",
        "\n",
        "data_loaders = {\n",
        "    'train': InMemDataLoader(\n",
        "        list(zip(X_train, y_train)), batch_size=batch_size, shuffle=True),\n",
        "    'test': InMemDataLoader(\n",
        "        list(zip(X_test, y_test)), batch_size=batch_size, shuffle=False)\n",
        "}"
      ],
      "execution_count": 47,
      "outputs": [
        {
          "output_type": "stream",
          "text": [
            "100%|██████████| 38849/38849 [00:01<00:00, 38741.27it/s]\n",
            "100%|██████████| 19136/19136 [00:00<00:00, 41451.35it/s]\n"
          ],
          "name": "stderr"
        }
      ]
    },
    {
      "cell_type": "code",
      "metadata": {
        "id": "H9EubOusKjmN",
        "colab_type": "code",
        "outputId": "64f3f64c-d4b4-4023-cbdd-15906d202414",
        "colab": {
          "base_uri": "https://localhost:8080/",
          "height": 55
        }
      },
      "source": [
        "'''\n",
        "batch_size = 128\n",
        "\n",
        "compose = transforms.Compose([\n",
        "    transforms.ToTensor(),\n",
        "    transforms.Normalize((0.5,), (0.5,))\n",
        "])\n",
        "\n",
        "train_loader = torch.utils.data.DataLoader(\n",
        "    list(zip(X_train, y_train)),\n",
        "    batch_size=batch_size,\n",
        "    shuffle=True,\n",
        ")\n",
        "\n",
        "test_loader = torch.utils.data.DataLoader(\n",
        "    list(zip(X_test, y_test)),\n",
        "    batch_size=batch_size,\n",
        "    shuffle=True,\n",
        ")\n",
        "\n",
        "'''"
      ],
      "execution_count": 48,
      "outputs": [
        {
          "output_type": "execute_result",
          "data": {
            "text/plain": [
              "'\\nbatch_size = 128\\n\\ncompose = transforms.Compose([\\n    transforms.ToTensor(),\\n    transforms.Normalize((0.5,), (0.5,))\\n])\\n\\ntrain_loader = torch.utils.data.DataLoader(\\n    list(zip(X_train, y_train)),\\n    batch_size=batch_size,\\n    shuffle=True,\\n)\\n\\ntest_loader = torch.utils.data.DataLoader(\\n    list(zip(X_test, y_test)),\\n    batch_size=batch_size,\\n    shuffle=True,\\n)\\n\\n'"
            ]
          },
          "metadata": {
            "tags": []
          },
          "execution_count": 48
        }
      ]
    },
    {
      "cell_type": "code",
      "metadata": {
        "id": "zcCpDqrEKjmQ",
        "colab_type": "code",
        "colab": {}
      },
      "source": [
        "class MLP(nn.Module):\n",
        "    def __init__(self):\n",
        "        super(MLP, self).__init__()\n",
        "        self.linear = nn.Sequential(\n",
        "            nn.Linear(50*160, 1000),\n",
        "            nn.ReLU(),\n",
        "            nn.Linear(1000, 1)\n",
        "        )\n",
        "\n",
        "    def forward(self, X):\n",
        "        X = X.view(X.size(0), -1)\n",
        "        out = self.linear(X)\n",
        "        return out\n",
        "    \n",
        "    def loss(self, Out, Targets):\n",
        "        loss = torch.sum((Out - Targets) ** 2)\n",
        "        return loss / Out.size(0)"
      ],
      "execution_count": 0,
      "outputs": []
    },
    {
      "cell_type": "code",
      "metadata": {
        "id": "PsIMZTRbKjmR",
        "colab_type": "code",
        "colab": {}
      },
      "source": [
        "class CNN(nn.Module):\n",
        "    def __init__(self):\n",
        "        super(CNN, self).__init__()\n",
        "        h1 = 16\n",
        "        h2 = 32\n",
        "        kernel = (5, 5)\n",
        "        self.conv = nn.Sequential(\n",
        "            nn.Conv2d(in_channels=1, out_channels=h1, kernel_size=kernel,\n",
        "                      stride=1, padding=1),\n",
        "            nn.BatchNorm2d(num_features=h1),\n",
        "            nn.ReLU(),\n",
        "            nn.MaxPool2d((2, 2)),\n",
        "            nn.Conv2d(in_channels=h1, out_channels=h2, kernel_size=kernel,\n",
        "                      stride=1, padding=1),\n",
        "            nn.BatchNorm2d(num_features=h2),\n",
        "            nn.ReLU(),\n",
        "            nn.MaxPool2d((2, 2))\n",
        "        )\n",
        "        \n",
        "        cnn_output_shape = 13376\n",
        "        self.linear = nn.Sequential(\n",
        "            nn.Linear(cnn_output_shape, 500),\n",
        "            nn.BatchNorm1d(500),\n",
        "            nn.ReLU(),\n",
        "            nn.Linear(500, 1),\n",
        "            nn.Tanh()\n",
        "        )\n",
        "\n",
        "    def forward(self, X):\n",
        "        out = self.conv(X)\n",
        "        out = out.reshape(out.size(0), -1)\n",
        "        out = self.linear(out)\n",
        "        return out\n",
        "    \n",
        "    def loss(self, Out, Targets):\n",
        "        loss = torch.sum((Out - Targets) ** 2)\n",
        "        return loss / Out.size(0)"
      ],
      "execution_count": 0,
      "outputs": []
    },
    {
      "cell_type": "code",
      "metadata": {
        "id": "yjW2meDBKjmT",
        "colab_type": "code",
        "colab": {}
      },
      "source": [
        "l_rate = 0.005\n",
        "n_epochs = 100\n",
        "n_batches = X_train.shape[0] // batch_size"
      ],
      "execution_count": 0,
      "outputs": []
    },
    {
      "cell_type": "code",
      "metadata": {
        "id": "0KxmCM1iKjmV",
        "colab_type": "code",
        "outputId": "6128e0f7-858b-4173-b701-8a4733ce3007",
        "colab": {
          "base_uri": "https://localhost:8080/",
          "height": 363
        }
      },
      "source": [
        "model = CNN()\n",
        "# model.to(device)\n",
        "\n",
        "optimizer = torch.optim.Adam(model.parameters(), lr=l_rate)\n",
        "\n",
        "model"
      ],
      "execution_count": 59,
      "outputs": [
        {
          "output_type": "execute_result",
          "data": {
            "text/plain": [
              "CNN(\n",
              "  (conv): Sequential(\n",
              "    (0): Conv2d(1, 16, kernel_size=(5, 5), stride=(1, 1), padding=(1, 1))\n",
              "    (1): BatchNorm2d(16, eps=1e-05, momentum=0.1, affine=True, track_running_stats=True)\n",
              "    (2): ReLU()\n",
              "    (3): MaxPool2d(kernel_size=(2, 2), stride=(2, 2), padding=0, dilation=1, ceil_mode=False)\n",
              "    (4): Conv2d(16, 32, kernel_size=(5, 5), stride=(1, 1), padding=(1, 1))\n",
              "    (5): BatchNorm2d(32, eps=1e-05, momentum=0.1, affine=True, track_running_stats=True)\n",
              "    (6): ReLU()\n",
              "    (7): MaxPool2d(kernel_size=(2, 2), stride=(2, 2), padding=0, dilation=1, ceil_mode=False)\n",
              "  )\n",
              "  (linear): Sequential(\n",
              "    (0): Linear(in_features=13376, out_features=500, bias=True)\n",
              "    (1): BatchNorm1d(500, eps=1e-05, momentum=0.1, affine=True, track_running_stats=True)\n",
              "    (2): ReLU()\n",
              "    (3): Linear(in_features=500, out_features=1, bias=True)\n",
              "    (4): Tanh()\n",
              "  )\n",
              ")"
            ]
          },
          "metadata": {
            "tags": []
          },
          "execution_count": 59
        }
      ]
    },
    {
      "cell_type": "code",
      "metadata": {
        "id": "_BpoGZw0KjmX",
        "colab_type": "code",
        "outputId": "201ce47c-27ec-4862-b3ea-09a1d7880946",
        "colab": {
          "base_uri": "https://localhost:8080/",
          "height": 108
        }
      },
      "source": [
        "model.train()\n",
        "model.to(device)\n",
        "\n",
        "for data_loader in data_loaders.values():\n",
        "        if isinstance(data_loader, InMemDataLoader):\n",
        "            data_loader.to(device)\n",
        "            \n",
        "\n",
        "try:\n",
        "    for i in range(n_epochs):\n",
        "        model.train()\n",
        "        # pbar = tqdm(desc=f'Epoch: {i}', position=0, leave=True, total=n_batches)\n",
        "\n",
        "        training_loss = 0\n",
        "        num_batches = 0\n",
        "        for images, y in data_loaders['train']:\n",
        "            images = images.to(device)\n",
        "            y = y.to(device)\n",
        "\n",
        "            # pbar.update(1)\n",
        "\n",
        "            flatten_images = images\n",
        "            a, b, c = images.size()\n",
        "            flatten_images = images.reshape(a, 1, b, c)\n",
        "\n",
        "            z = model(flatten_images.float()) \n",
        "            loss = model.loss(z, y)\n",
        "            training_loss += loss\n",
        "            num_batches += 1\n",
        "            \n",
        "            optimizer.zero_grad()\n",
        "            loss.backward()\n",
        "            optimizer.step()\n",
        "    \n",
        "\n",
        "        # pbar.close()\n",
        "        model.eval()\n",
        "        \n",
        "        valid_loss = 0\n",
        "        num_examples = 0\n",
        "        with torch.no_grad():\n",
        "            for images, y in data_loaders['test']:\n",
        "                images = images.to(device)\n",
        "                y = y.to(device)\n",
        "\n",
        "                z = model(flatten_images.float()) \n",
        "                loss = model.loss(z, y)\n",
        "\n",
        "                valid_loss += loss\n",
        "                num_examples += 1\n",
        "         \n",
        "        # clear_output(True)\n",
        "        print(f'Epoch: {i + 1}/{n_epochs} | Training loss: {training_loss / num_batches:.4f} | Val loss: {valid_loss / num_examples:.4f}')\n",
        "   \n",
        "    \n",
        "except KeyboardInterrupt:\n",
        "    pass"
      ],
      "execution_count": 60,
      "outputs": [
        {
          "output_type": "stream",
          "text": [
            "Epoch: 1/5 | Training loss: 20.5334 | Val loss: 17.1575\n",
            "Epoch: 2/5 | Training loss: 16.8389 | Val loss: 16.3211\n",
            "Epoch: 3/5 | Training loss: 16.4319 | Val loss: 16.2919\n",
            "Epoch: 4/5 | Training loss: 16.3686 | Val loss: 16.3324\n",
            "Epoch: 5/5 | Training loss: 16.3439 | Val loss: 16.2659\n"
          ],
          "name": "stdout"
        }
      ]
    },
    {
      "cell_type": "code",
      "metadata": {
        "id": "L2fXOho8KjmZ",
        "colab_type": "code",
        "colab": {
          "base_uri": "https://localhost:8080/",
          "height": 35
        },
        "outputId": "4bd389bd-7244-44d7-c87d-97ffc374a291"
      },
      "source": [
        "for x, y in data_loaders['train']:\n",
        "    print(x.shape, y.shape)\n",
        "    break"
      ],
      "execution_count": 86,
      "outputs": [
        {
          "output_type": "stream",
          "text": [
            "torch.Size([128, 50, 160]) torch.Size([128])\n"
          ],
          "name": "stdout"
        }
      ]
    },
    {
      "cell_type": "code",
      "metadata": {
        "id": "16Puvy5IYDtb",
        "colab_type": "code",
        "colab": {
          "base_uri": "https://localhost:8080/",
          "height": 364
        },
        "outputId": "0632f796-9512-4a87-fd4b-5ce94092963b"
      },
      "source": [
        "import time\n",
        "for _ in range(1000):\n",
        "    clear_output(True)\n",
        "    tmp = next(iter(data_loaders['train']))\n",
        "    x = tmp[0][0].detach().cpu()\n",
        "    y = tmp[1][0].detach().cpu()\n",
        "\n",
        "    plt.imshow(x, cmap='gray')\n",
        "    plt.show()\n",
        "    x = x.reshape(1, 1, *x.shape)\n",
        "    x = x.to(device)\n",
        "    print(f'Model: {model(x.float())} ||| Gro: {y}')\n",
        "    time.sleep(2)"
      ],
      "execution_count": 88,
      "outputs": [
        {
          "output_type": "display_data",
          "data": {
            "image/png": "[encoded data removed]",
            "text/plain": [
              "<Figure size 432x288 with 1 Axes>"
            ]
          },
          "metadata": {
            "tags": [],
            "needs_background": "light"
          }
        },
        {
          "output_type": "stream",
          "text": [
            "Model: tensor([[-0.0733]], device='cuda:0', grad_fn=<TanhBackward>) ||| Gro: -0.12333333333333334\n"
          ],
          "name": "stdout"
        },
        {
          "output_type": "error",
          "ename": "KeyboardInterrupt",
          "evalue": "ignored",
          "traceback": [
            "\u001b[0;31m---------------------------------------------------------------------------\u001b[0m",
            "\u001b[0;31mKeyboardInterrupt\u001b[0m                         Traceback (most recent call last)",
            "\u001b[0;32m<ipython-input-88-42337663dc66>\u001b[0m in \u001b[0;36m<module>\u001b[0;34m()\u001b[0m\n\u001b[1;32m     11\u001b[0m     \u001b[0mx\u001b[0m \u001b[0;34m=\u001b[0m \u001b[0mx\u001b[0m\u001b[0;34m.\u001b[0m\u001b[0mto\u001b[0m\u001b[0;34m(\u001b[0m\u001b[0mdevice\u001b[0m\u001b[0;34m)\u001b[0m\u001b[0;34m\u001b[0m\u001b[0;34m\u001b[0m\u001b[0m\n\u001b[1;32m     12\u001b[0m     \u001b[0mprint\u001b[0m\u001b[0;34m(\u001b[0m\u001b[0;34mf'Model: {model(x.float())} ||| Gro: {y}'\u001b[0m\u001b[0;34m)\u001b[0m\u001b[0;34m\u001b[0m\u001b[0;34m\u001b[0m\u001b[0m\n\u001b[0;32m---> 13\u001b[0;31m     \u001b[0mtime\u001b[0m\u001b[0;34m.\u001b[0m\u001b[0msleep\u001b[0m\u001b[0;34m(\u001b[0m\u001b[0;36m2\u001b[0m\u001b[0;34m)\u001b[0m\u001b[0;34m\u001b[0m\u001b[0;34m\u001b[0m\u001b[0m\n\u001b[0m",
            "\u001b[0;31mKeyboardInterrupt\u001b[0m: "
          ]
        }
      ]
    },
    {
      "cell_type": "code",
      "metadata": {
        "id": "wStU0kGZYMHq",
        "colab_type": "code",
        "colab": {}
      },
      "source": [
        ""
      ],
      "execution_count": 0,
      "outputs": []
    }
  ]
}