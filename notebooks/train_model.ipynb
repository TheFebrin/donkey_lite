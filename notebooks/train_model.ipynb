{
  "nbformat": 4,
  "nbformat_minor": 0,
  "metadata": {
    "colab": {
      "name": "train_model.ipynb",
      "version": "0.3.2",
      "provenance": [],
      "collapsed_sections": []
    },
    "kernelspec": {
      "name": "python3",
      "display_name": "Python 3"
    },
    "accelerator": "GPU"
  },
  "cells": [
    {
      "metadata": {
        "id": "9v1fFy6VT1e9",
        "colab_type": "code",
        "colab": {}
      },
      "cell_type": "code",
      "source": [
        "from google.colab import files\n",
        "\n",
        "uploaded = files.upload()\n",
        "\n",
        "for fn in uploaded.keys():\n",
        "  print('User uploaded file \"{name}\" with length {length} bytes'.format(\n",
        "      name=fn, length=len(uploaded[fn])))"
      ],
      "execution_count": 0,
      "outputs": []
    },
    {
      "metadata": {
        "id": "rw73EI5Tu4Ze",
        "colab_type": "code",
        "colab": {},
        "cellView": "both"
      },
      "cell_type": "code",
      "source": [
        "# Importy Pythonowe\n",
        "\n",
        "import json\n",
        "import os\n",
        "import zipfile\n",
        "\n",
        "import matplotlib.animation\n",
        "import matplotlib.pyplot as plt\n",
        "import numpy as np\n",
        "from scipy import ndimage\n",
        "\n",
        "import seaborn as sns\n",
        "sns.set_style('whitegrid')\n",
        "\n",
        "import keras as K\n",
        "import keras.layers as KL\n",
        "\n",
        "import IPython.display\n",
        "from IPython.display import HTML"
      ],
      "execution_count": 0,
      "outputs": []
    },
    {
      "metadata": {
        "id": "Cr2PzakVZidX",
        "colab_type": "code",
        "colab": {}
      },
      "cell_type": "code",
      "source": [
        "# Czytanie danych do pamięci\n",
        "records = []\n",
        "for archive_f in uploaded.keys():\n",
        "  with zipfile.ZipFile(archive_f) as archive:\n",
        "    for fileinfo in archive.filelist:\n",
        "      filename = fileinfo.filename\n",
        "      if not filename.endswith('.json') or filename.endswith('meta.json'):\n",
        "        continue\n",
        "      with archive.open(filename) as f:\n",
        "        data = json.load(f)\n",
        "      basename = os.path.basename(filename)\n",
        "      dirname = os.path.dirname(filename)\n",
        "      # ucinamy 'record_' z przodu i '.json' z tylu\n",
        "      step_number = int(basename[7:-5])\n",
        "      with archive.open(\n",
        "          os.path.join(dirname, data['image_array'])) as image_file:\n",
        "        image = ndimage.imread(image_file) / 255.0\n",
        "      records.append((step_number, image, data['user_angle'], data['user_throttle']))\n",
        "records.sort(key=lambda x: x[0])\n",
        "images = np.array([r[1] for r in records], dtype='float32')\n",
        "angles = np.array([r[2] for r in records], dtype='float32')[:, None]\n",
        "throttles = np.array([r[3] for r in records], dtype='float32')[:, None]\n"
      ],
      "execution_count": 0,
      "outputs": []
    },
    {
      "metadata": {
        "id": "Np4FzXl9xqNk",
        "colab_type": "code",
        "colab": {}
      },
      "cell_type": "code",
      "source": [
        "print('Images to tablica o wymiarach:', images.shape)\n",
        "print('Angles to tablica o wymiarach:', angles.shape)\n",
        "print('Throttles to tablica o wymiarach:', throttles.shape)\n",
        "\n",
        "# Dane (images, angles) podzielimy na 3 podzbiory:\n",
        "# - dane uczące (train_images, train_angles), na których będziemy trenować modele\n",
        "# - dane walidacyjne (valid_images, valid_angles) również użyte do treningu modeli\n",
        "# - dane testowe (test_images, test_angles) na których ocenimy jak dobrze działa\n",
        "#   nasz model\n",
        "train_images, valid_images, test_images = np.split(images, [-1000, -500])\n",
        "train_angles, valid_angles, test_angles = np.split(angles, [-1000, -500])\n",
        "(train_throttles, valid_throttles, test_throttles\n",
        "    ) = np.split(throttles, [-1000, -500])\n",
        "\n",
        "print('Dane uczące mają %d klatek, walidacyjne %d i testowe %d.' % \n",
        "      (train_images.shape[0], valid_images.shape[0], test_images.shape[0]))"
      ],
      "execution_count": 0,
      "outputs": []
    },
    {
      "metadata": {
        "id": "u7-uaJrpkXr8",
        "colab_type": "code",
        "colab": {}
      },
      "cell_type": "code",
      "source": [
        "# Wizualizacja danych\n",
        "\n",
        "plt.figure(figsize=(15, 5))\n",
        "for i, frame in enumerate(range(330, 390, 10)):\n",
        "  plt.subplot(2, 3, i + 1)\n",
        "  plt.imshow(images[frame])\n",
        "  plt.title(\"Klatka %d\" % (frame,))"
      ],
      "execution_count": 0,
      "outputs": []
    },
    {
      "metadata": {
        "id": "bV9Kj0uCl7wg",
        "colab_type": "code",
        "colab": {}
      },
      "cell_type": "code",
      "source": [
        "plt.plot(angles, color='g', label='recorded steering')\n",
        "plt.plot(throttles, color='b', label='recorded steering')\n",
        "plt.title('Nagrane sterowanie')\n",
        "plt.xlabel('Nr klatki')\n",
        "plt.ylabel('Skręt kierownicy')\n",
        "None"
      ],
      "execution_count": 0,
      "outputs": []
    },
    {
      "metadata": {
        "id": "3-HN9MEeA4j2",
        "colab_type": "code",
        "colab": {}
      },
      "cell_type": "code",
      "source": [
        "  img_in = KL.Input(shape=(120, 160, 3), name='img_in')\n",
        "  x = img_in\n",
        "\n",
        "  # Convolution2D class name is an alias for Conv2D\n",
        "  x = KL.Convolution2D(filters=24, kernel_size=(5, 5), strides=(2, 2), activation='relu')(x)\n",
        "  x = KL.Convolution2D(filters=32, kernel_size=(5, 5), strides=(2, 2), activation='relu')(x)\n",
        "  x = KL.Convolution2D(filters=64, kernel_size=(5, 5), strides=(2, 2), activation='relu')(x)\n",
        "  x = KL.Convolution2D(filters=64, kernel_size=(3, 3), strides=(2, 2), activation='relu')(x)\n",
        "  x = KL.Convolution2D(filters=64, kernel_size=(3, 3), strides=(1, 1), activation='relu')(x)\n",
        "\n",
        "  x = KL.Flatten(name='flattened')(x)\n",
        "  x = KL.Dense(units=100, activation='linear')(x)\n",
        "  x = KL.Dropout(rate=.1)(x)\n",
        "  x = KL.Dense(units=50, activation='linear')(x)\n",
        "  x = KL.Dropout(rate=.1)(x)\n",
        "  # categorical output of the angle\n",
        "  angle_out = KL.Dense(units=1, activation='linear', name='angle_out')(x)\n",
        "\n",
        "  # continous output of throttle\n",
        "  throttle_out = KL.Dense(units=1, activation='linear', name='throttle_out')(x)\n",
        "\n",
        "  model = K.Model(inputs=[img_in], outputs=[angle_out, throttle_out])\n",
        "\n",
        "  model.compile(optimizer='adam',\n",
        "                loss={'angle_out': 'mean_squared_error',\n",
        "                      'throttle_out': 'mean_squared_error'},\n",
        "                loss_weights={'angle_out': 0.5, 'throttle_out': 0.5})\n"
      ],
      "execution_count": 0,
      "outputs": []
    },
    {
      "metadata": {
        "id": "lZINkPNnZI8E",
        "colab_type": "code",
        "colab": {}
      },
      "cell_type": "code",
      "source": [
        "callbacks = [\n",
        "    K.callbacks.ModelCheckpoint('model', save_best_only=True),\n",
        "    K.callbacks.EarlyStopping(monitor='val_loss',\n",
        "                              min_delta=.0005,\n",
        "                              patience=5,\n",
        "                              verbose=True,\n",
        "                              mode='auto')\n",
        "]\n",
        "\n",
        "# Model uczymy na danych uczących.\n",
        "# Po każdej epoce (ang. epoch) policzymy błąd na danych walidacyjnych i jeśli\n",
        "# model jest lepszy (błąd jest mniejszy), zapisujemy go.\n",
        "\n",
        "hist = model.fit(train_images, [train_angles, train_throttles], \n",
        "                 epochs=200, \n",
        "                 validation_data=(valid_images, [valid_angles, valid_throttles]), \n",
        "                 callbacks=callbacks)\n"
      ],
      "execution_count": 0,
      "outputs": []
    },
    {
      "metadata": {
        "id": "2d8CH-8x4X-i",
        "colab_type": "text"
      },
      "cell_type": "markdown",
      "source": [
        "## Analiza wyuczonej sieci\n",
        "Najpierw sprawdzimy błąd MSE osiągnięty przez sieć."
      ]
    },
    {
      "metadata": {
        "id": "avL4PSMZ4amr",
        "colab_type": "code",
        "colab": {}
      },
      "cell_type": "code",
      "source": [
        "#@title Wczytywanie najlepszej sieci\n",
        "best_model = keras.models.load_model('model')\n",
        "\n",
        "print('Obliczony przez Keras błąd walidacyjny:',\n",
        "      best_model.evaluate(valid_images,\n",
        "                          [valid_angles, valid_throttles], verbose=0))\n",
        "print('Obliczony przez Keras błąd testowy:',\n",
        "      best_model.evaluate(test_images,\n",
        "                          [test_angles, test_throttles], verbose=0))"
      ],
      "execution_count": 0,
      "outputs": []
    },
    {
      "metadata": {
        "id": "vqNq4usZ8anI",
        "colab_type": "text"
      },
      "cell_type": "markdown",
      "source": [
        "Teraz zobaczymy jak można wykorzystać sieć do przewidywania sterowania na danych testowych:"
      ]
    },
    {
      "metadata": {
        "id": "jeF1bHEq4suo",
        "colab_type": "code",
        "colab": {}
      },
      "cell_type": "code",
      "source": [
        "#@title Użycie najlepszej sieci\n",
        "\n",
        "# Obliczamy kąty przewidziane przez sieć na danych testowych\n",
        "pred_test_angles, pred_test_throttles = best_model.predict(test_images)"
      ],
      "execution_count": 0,
      "outputs": []
    },
    {
      "metadata": {
        "id": "MA6zDza4F-yN",
        "colab_type": "code",
        "colab": {}
      },
      "cell_type": "code",
      "source": [
        "plt.plot(test_angles, label='recorded', color='g', alpha=0.5)\n",
        "plt.plot(pred_test_angles, label='predicted', color='r')\n",
        "plt.legend(loc='upper right')\n",
        "plt.title('Nagrane i przewidywane sterowanie samochodem.')\n",
        "None"
      ],
      "execution_count": 0,
      "outputs": []
    },
    {
      "metadata": {
        "id": "ZmT_zIuyuh6k",
        "colab_type": "code",
        "colab": {}
      },
      "cell_type": "code",
      "source": [
        ""
      ],
      "execution_count": 0,
      "outputs": []
    }
  ]
}